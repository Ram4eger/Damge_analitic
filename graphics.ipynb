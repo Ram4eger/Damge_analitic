{
 "cells": [
  {
   "cell_type": "code",
   "execution_count": null,
   "id": "64a643ea",
   "metadata": {},
   "outputs": [],
   "source": [
    "#Графики показывающие зависимость показаний от резисторов"
   ]
  },
  {
   "cell_type": "code",
   "execution_count": 3,
   "id": "583e8ca7",
   "metadata": {},
   "outputs": [
    {
     "ename": "NameError",
     "evalue": "name 'cmap' is not defined",
     "output_type": "error",
     "traceback": [
      "\u001b[31m---------------------------------------------------------------------------\u001b[39m",
      "\u001b[31mNameError\u001b[39m                                 Traceback (most recent call last)",
      "\u001b[36mCell\u001b[39m\u001b[36m \u001b[39m\u001b[32mIn[3]\u001b[39m\u001b[32m, line 15\u001b[39m\n\u001b[32m     13\u001b[39m plt.figure(figsize=(\u001b[32m10\u001b[39m, \u001b[32m4\u001b[39m))\n\u001b[32m     14\u001b[39m \u001b[38;5;28;01mfor\u001b[39;00m col \u001b[38;5;129;01min\u001b[39;00m df.columns:\n\u001b[32m---> \u001b[39m\u001b[32m15\u001b[39m     plt.plot(df[col], label=\u001b[33mf\u001b[39m\u001b[33m\"\u001b[39m\u001b[33mcol\u001b[39m\u001b[38;5;132;01m{\u001b[39;00mcol+\u001b[32m1\u001b[39m\u001b[38;5;132;01m}\u001b[39;00m\u001b[33m\"\u001b[39m, alpha=\u001b[32m0.5\u001b[39m, linewidth=\u001b[32m0.7\u001b[39m, color=\u001b[43mcmap\u001b[49m(i))\n\u001b[32m     16\u001b[39m plt.title(fname)\n\u001b[32m     17\u001b[39m plt.legend()\n",
      "\u001b[31mNameError\u001b[39m: name 'cmap' is not defined"
     ]
    },
    {
     "data": {
      "text/plain": [
       "<Figure size 1000x400 with 0 Axes>"
      ]
     },
     "metadata": {},
     "output_type": "display_data"
    }
   ],
   "source": [
    "import pandas as pd\n",
    "import matplotlib.pyplot as plt\n",
    "\n",
    "files = [\n",
    "    \"1м-1м.csv\", \"2.2к-1м.csv\", \"10к-1м.csv\", \"10к-5м.csv\", \"10к-10к.csv\",\n",
    "    \"10к-300к.csv\", \"22-1м.csv\", \"68к-1м.csv\", \"220-1м.csv\", \"300к-1м.csv\", \"680-1м.csv\"\n",
    " ]\n",
    "folder = \"C:/Users/rom/Documents/Arduino/sketch_jul15a\"\n",
    "\n",
    "for fname in files:\n",
    "    df = pd.read_csv(f\"{folder}/{fname}\", header=None)\n",
    "    df = df.apply(pd.to_numeric, errors='coerce')\n",
    "    plt.figure(figsize=(10, 4))\n",
    "    for col in df.columns:\n",
    "        plt.plot(df[col], label=f\"col{col+1}\", alpha=0.5, linewidth=0.7)\n",
    "    plt.title(fname)\n",
    "    plt.legend()\n",
    "    plt.grid(True)\n",
    "    ymin = int(df.min().min() // 100 * 100)\n",
    "    ymax = int(df.max().max() // 100 * 100 + 100)\n",
    "    plt.yticks(range(ymin, ymax+1, 100))\n",
    "    plt.show()"
   ]
  },
  {
   "cell_type": "code",
   "execution_count": null,
   "id": "bb57143a",
   "metadata": {},
   "outputs": [],
   "source": []
  },
  {
   "cell_type": "code",
   "execution_count": null,
   "id": "f00e9bae",
   "metadata": {},
   "outputs": [],
   "source": []
  },
  {
   "cell_type": "code",
   "execution_count": null,
   "id": "bcfbc601",
   "metadata": {},
   "outputs": [],
   "source": []
  },
  {
   "cell_type": "code",
   "execution_count": null,
   "id": "9283fd9b",
   "metadata": {},
   "outputs": [],
   "source": []
  }
 ],
 "metadata": {
  "kernelspec": {
   "display_name": "Python 3",
   "language": "python",
   "name": "python3"
  },
  "language_info": {
   "codemirror_mode": {
    "name": "ipython",
    "version": 3
   },
   "file_extension": ".py",
   "mimetype": "text/x-python",
   "name": "python",
   "nbconvert_exporter": "python",
   "pygments_lexer": "ipython3",
   "version": "3.13.5"
  }
 },
 "nbformat": 4,
 "nbformat_minor": 5
}
